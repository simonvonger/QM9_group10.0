{
 "cells": [
  {
   "cell_type": "code",
   "execution_count": 5,
   "metadata": {},
   "outputs": [],
   "source": [
    "from PIL import Image\n",
    "\n",
    "\n",
    "# List of PNG files to combine\n",
    "file_paths = [\n",
    "    \"predicted_vs_target_plot_alpha.png\",\n",
    "    \"predicted_vs_target_plot_zpve.png\",\n",
    "    \"predicted_vs_target_plot_lumo.png\",\n",
    "    \"predicted_vs_target_plot_homo.png\",\n",
    "]\n",
    "\n",
    "# Open the images\n",
    "images = [Image.open(file_path) for file_path in file_paths]\n",
    "\n",
    "# Get the size of each image\n",
    "widths, heights = zip(*(i.size for i in images))\n",
    "\n",
    "# Calculate the size of the combined image\n",
    "max_width = max(widths)\n",
    "max_height = max(heights)\n",
    "\n",
    "# Create a new image with white background\n",
    "combined_image = Image.new(\"RGB\", (2 * max_width, 2 * max_height), \"white\")\n",
    "\n",
    "# Paste each image into the combined image with reduced space\n",
    "for i in range(2):\n",
    "    for j in range(2):\n",
    "        idx = i * 2 + j\n",
    "        if idx < len(images):\n",
    "            img_width, img_height = images[idx].size\n",
    "            paste_x = j * max_width + (max_width - img_width) // 2\n",
    "            paste_y = i * max_height + (max_height - img_height) // 2\n",
    "            combined_image.paste(images[idx], (paste_x, paste_y))\n",
    "\n",
    "# Save the combined image\n",
    "combined_image.save(\"combined_plots_closer.png\")\n"
   ]
  }
 ],
 "metadata": {
  "kernelspec": {
   "display_name": "Python 3",
   "language": "python",
   "name": "python3"
  },
  "language_info": {
   "codemirror_mode": {
    "name": "ipython",
    "version": 3
   },
   "file_extension": ".py",
   "mimetype": "text/x-python",
   "name": "python",
   "nbconvert_exporter": "python",
   "pygments_lexer": "ipython3",
   "version": "3.11.1"
  }
 },
 "nbformat": 4,
 "nbformat_minor": 2
}
