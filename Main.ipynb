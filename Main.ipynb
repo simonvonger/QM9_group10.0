{
 "cells": [
  {
   "cell_type": "code",
   "execution_count": 1,
   "metadata": {},
   "outputs": [
    {
     "name": "stdout",
     "output_type": "stream",
     "text": [
      "cpu will be used for training the PaiNN model\n",
      "Current loss 68.24988555908203 Current batch 0/1047 (0.00%)\n",
      "Current loss 0.7615016102790833 Current batch 100/1047 (9.55%)\n",
      "Current loss 0.2768791913986206 Current batch 200/1047 (19.10%)\n",
      "Current loss 0.3744398355484009 Current batch 300/1047 (28.65%)\n",
      "Current loss 0.2638269364833832 Current batch 400/1047 (38.20%)\n",
      "Current loss 0.2299085259437561 Current batch 500/1047 (47.76%)\n",
      "Current loss 0.3836393356323242 Current batch 600/1047 (57.31%)\n",
      "Current loss 0.49915099143981934 Current batch 700/1047 (66.86%)\n"
     ]
    }
   ],
   "source": [
    "import os\n",
    "import torch\n",
    "import torch.nn as nn\n",
    "import numpy\n",
    "from Dataloader import DataLoaderQM9\n",
    "from Model import PaiNN\n",
    "from Training import Trainer\n",
    "from Model import mse, mae\n",
    "\n",
    "def training():\n",
    "        device = torch.device(\"cuda\" if torch.cuda.is_available() else \"cpu\")\n",
    "        print(f\"{device} will be used for training the PaiNN model\")\n",
    "        Model = PaiNN(r_cut=5, \n",
    "                device=device\n",
    "                ).to(device)\n",
    "\n",
    "        train_set = DataLoaderQM9(r_cut=5,batch_size=100)\n",
    "        optimizer = torch.optim.Adam(params=Model.parameters(), lr = 5e-4, weight_decay = 0.01)\n",
    "        scheduler = torch.optim.lr_scheduler.ReduceLROnPlateau(optimizer, 'min', factor=0.5, patience = 5)\n",
    "        trainer = Trainer(\n",
    "            Model=Model,\n",
    "            loss=mse,\n",
    "            target=2,\n",
    "            optimizer=optimizer,\n",
    "            Dataloader=train_set,\n",
    "            scheduler=scheduler,\n",
    "            device=device\n",
    "        )\n",
    "        trainer._train(num_epoch = 100, early_stopping = 30)\n",
    "        trainer.plot_data()\n",
    "\n",
    "if __name__==\"__main__\":\n",
    "    training()"
   ]
  },
  {
   "cell_type": "code",
   "execution_count": null,
   "metadata": {},
   "outputs": [],
   "source": []
  }
 ],
 "metadata": {
  "kernelspec": {
   "display_name": "Python 3",
   "language": "python",
   "name": "python3"
  },
  "language_info": {
   "codemirror_mode": {
    "name": "ipython",
    "version": 3
   },
   "file_extension": ".py",
   "mimetype": "text/x-python",
   "name": "python",
   "nbconvert_exporter": "python",
   "pygments_lexer": "ipython3",
   "version": "3.11.5"
  }
 },
 "nbformat": 4,
 "nbformat_minor": 2
}
