{
 "cells": [
  {
   "cell_type": "code",
   "execution_count": null,
   "metadata": {},
   "outputs": [],
   "source": [
    "import torch\n",
    "import torch.nn as nn\n",
    "import numpy\n",
    "from Dataloader import DataLoaderQM9\n",
    "from Model import PaiNN\n",
    "from Training import Trainer\n",
    "from Training import mse\n",
    "\n",
    "\n",
    "def training():\n",
    "        device = torch.device(\"cuda\" if torch.cuda.is_available() else \"cpu\")\n",
    "        print(f\"{device} will be used for training the PaiNN model\")\n",
    "        model = PaiNN(r_cut=5, \n",
    "                device=device\n",
    "                ).to(device)\n",
    "\n",
    "        train_set = DataLoaderQM9(r_cut=5)\n",
    "        optimizer = torch.optim.Adam(params=model.parameters(), lr = 5e-4, weight_decay = 0.01)\n",
    "        scheduler = torch.optim.lr_scheduler.ReduceLROnPlateau(optimizer, 'min', factor=0.5, patience = 5)\n",
    "        trainer = Trainer(\n",
    "            model=model,\n",
    "            loss=mse,\n",
    "            target=2,\n",
    "            optimizer=optimizer,\n",
    "            data_loader=train_set,\n",
    "            scheduler=scheduler,\n",
    "            device=device\n",
    "        )\n",
    "        trainer._train(num_epoch = 3, early_stopping = 2)\n",
    "        trainer.plot_data()\n",
    "\n",
    "if __name__==\"__main__\":\n",
    "    training()"
   ]
  }
 ],
 "metadata": {
  "kernelspec": {
   "display_name": "Python 3",
   "language": "python",
   "name": "python3"
  },
  "language_info": {
   "codemirror_mode": {
    "name": "ipython",
    "version": 3
   },
   "file_extension": ".py",
   "mimetype": "text/x-python",
   "name": "python",
   "nbconvert_exporter": "python",
   "pygments_lexer": "ipython3",
   "version": "3.11.1"
  }
 },
 "nbformat": 4,
 "nbformat_minor": 2
}
