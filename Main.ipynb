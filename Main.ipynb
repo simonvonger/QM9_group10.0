{
 "cells": [
  {
   "cell_type": "code",
   "execution_count": 1,
   "metadata": {},
   "outputs": [
    {
     "name": "stdout",
     "output_type": "stream",
     "text": [
      "cpu will be used for training the PaiNN model\n",
      "Current loss 33.30836868286133 Current batch 0/1047 (0.00%)\n"
     ]
    },
    {
     "ename": "KeyboardInterrupt",
     "evalue": "",
     "output_type": "error",
     "traceback": [
      "\u001b[0;31m---------------------------------------------------------------------------\u001b[0m",
      "\u001b[0;31mKeyboardInterrupt\u001b[0m                         Traceback (most recent call last)",
      "\u001b[1;32m/Users/hansmoeller/Documents/GitHub/QM9_group10.0/Main.ipynb Cell 1\u001b[0m line \u001b[0;36m3\n\u001b[1;32m     <a href='vscode-notebook-cell:/Users/hansmoeller/Documents/GitHub/QM9_group10.0/Main.ipynb#W0sZmlsZQ%3D%3D?line=33'>34</a>\u001b[0m         trainer\u001b[39m.\u001b[39mplot_data()\n\u001b[1;32m     <a href='vscode-notebook-cell:/Users/hansmoeller/Documents/GitHub/QM9_group10.0/Main.ipynb#W0sZmlsZQ%3D%3D?line=35'>36</a>\u001b[0m \u001b[39mif\u001b[39;00m \u001b[39m__name__\u001b[39m\u001b[39m==\u001b[39m\u001b[39m\"\u001b[39m\u001b[39m__main__\u001b[39m\u001b[39m\"\u001b[39m:\n\u001b[0;32m---> <a href='vscode-notebook-cell:/Users/hansmoeller/Documents/GitHub/QM9_group10.0/Main.ipynb#W0sZmlsZQ%3D%3D?line=36'>37</a>\u001b[0m     training()\n\u001b[1;32m     <a href='vscode-notebook-cell:/Users/hansmoeller/Documents/GitHub/QM9_group10.0/Main.ipynb#W0sZmlsZQ%3D%3D?line=38'>39</a>\u001b[0m     \u001b[39m#save the best model\u001b[39;00m\n\u001b[1;32m     <a href='vscode-notebook-cell:/Users/hansmoeller/Documents/GitHub/QM9_group10.0/Main.ipynb#W0sZmlsZQ%3D%3D?line=39'>40</a>\u001b[0m     saveModel(Model, path\u001b[39m=\u001b[39m\u001b[39m\"\u001b[39m\u001b[39m./final_best_PaiNNModel.pth\u001b[39m\u001b[39m\"\u001b[39m)\n",
      "\u001b[1;32m/Users/hansmoeller/Documents/GitHub/QM9_group10.0/Main.ipynb Cell 1\u001b[0m line \u001b[0;36m3\n\u001b[1;32m     <a href='vscode-notebook-cell:/Users/hansmoeller/Documents/GitHub/QM9_group10.0/Main.ipynb#W0sZmlsZQ%3D%3D?line=22'>23</a>\u001b[0m scheduler \u001b[39m=\u001b[39m torch\u001b[39m.\u001b[39moptim\u001b[39m.\u001b[39mlr_scheduler\u001b[39m.\u001b[39mReduceLROnPlateau(optimizer, \u001b[39m'\u001b[39m\u001b[39mmin\u001b[39m\u001b[39m'\u001b[39m, factor\u001b[39m=\u001b[39m\u001b[39m0.5\u001b[39m, patience \u001b[39m=\u001b[39m \u001b[39m5\u001b[39m)\n\u001b[1;32m     <a href='vscode-notebook-cell:/Users/hansmoeller/Documents/GitHub/QM9_group10.0/Main.ipynb#W0sZmlsZQ%3D%3D?line=23'>24</a>\u001b[0m trainer \u001b[39m=\u001b[39m Trainer(\n\u001b[1;32m     <a href='vscode-notebook-cell:/Users/hansmoeller/Documents/GitHub/QM9_group10.0/Main.ipynb#W0sZmlsZQ%3D%3D?line=24'>25</a>\u001b[0m     Model\u001b[39m=\u001b[39mModel,\n\u001b[1;32m     <a href='vscode-notebook-cell:/Users/hansmoeller/Documents/GitHub/QM9_group10.0/Main.ipynb#W0sZmlsZQ%3D%3D?line=25'>26</a>\u001b[0m     loss\u001b[39m=\u001b[39mmse,\n\u001b[0;32m   (...)\u001b[0m\n\u001b[1;32m     <a href='vscode-notebook-cell:/Users/hansmoeller/Documents/GitHub/QM9_group10.0/Main.ipynb#W0sZmlsZQ%3D%3D?line=30'>31</a>\u001b[0m     device\u001b[39m=\u001b[39mdevice\n\u001b[1;32m     <a href='vscode-notebook-cell:/Users/hansmoeller/Documents/GitHub/QM9_group10.0/Main.ipynb#W0sZmlsZQ%3D%3D?line=31'>32</a>\u001b[0m )\n\u001b[0;32m---> <a href='vscode-notebook-cell:/Users/hansmoeller/Documents/GitHub/QM9_group10.0/Main.ipynb#W0sZmlsZQ%3D%3D?line=32'>33</a>\u001b[0m trainer\u001b[39m.\u001b[39m_train(num_epoch \u001b[39m=\u001b[39m \u001b[39m100\u001b[39m, early_stopping \u001b[39m=\u001b[39m \u001b[39m30\u001b[39m)\n\u001b[1;32m     <a href='vscode-notebook-cell:/Users/hansmoeller/Documents/GitHub/QM9_group10.0/Main.ipynb#W0sZmlsZQ%3D%3D?line=33'>34</a>\u001b[0m trainer\u001b[39m.\u001b[39mplot_data()\n",
      "File \u001b[0;32m~/Documents/GitHub/QM9_group10.0/Training.py:90\u001b[0m, in \u001b[0;36mTrainer._train\u001b[0;34m(self, num_epoch, early_stopping, alpha)\u001b[0m\n\u001b[1;32m     87\u001b[0m best_model_path \u001b[39m=\u001b[39m \u001b[39mNone\u001b[39;00m  \u001b[39m# where the best model is\u001b[39;00m\n\u001b[1;32m     89\u001b[0m \u001b[39mfor\u001b[39;00m epoch \u001b[39min\u001b[39;00m \u001b[39mrange\u001b[39m(\u001b[39m1\u001b[39m, num_epoch \u001b[39m+\u001b[39m \u001b[39m1\u001b[39m):\n\u001b[0;32m---> 90\u001b[0m     \u001b[39mself\u001b[39m\u001b[39m.\u001b[39m_train_epoch()\n\u001b[1;32m     91\u001b[0m     \u001b[39m# Validate at the end of an epoch\u001b[39;00m\n\u001b[1;32m     92\u001b[0m     val_loss \u001b[39m=\u001b[39m \u001b[39mself\u001b[39m\u001b[39m.\u001b[39m_eval_model()\n",
      "File \u001b[0;32m~/Documents/GitHub/QM9_group10.0/Training.py:49\u001b[0m, in \u001b[0;36mTrainer._train_epoch\u001b[0;34m(self)\u001b[0m\n\u001b[1;32m     45\u001b[0m \u001b[39mif\u001b[39;00m batch_num \u001b[39m%\u001b[39m \u001b[39m100\u001b[39m \u001b[39m==\u001b[39m \u001b[39m0\u001b[39m:\n\u001b[1;32m     46\u001b[0m     \u001b[39mprint\u001b[39m(\u001b[39mf\u001b[39m\u001b[39m\"\u001b[39m\u001b[39mCurrent loss \u001b[39m\u001b[39m{\u001b[39;00mloss\u001b[39m}\u001b[39;00m\u001b[39m Current batch \u001b[39m\u001b[39m{\u001b[39;00mbatch_num\u001b[39m}\u001b[39;00m\u001b[39m/\u001b[39m\u001b[39m{\u001b[39;00m\u001b[39mlen\u001b[39m(\u001b[39mself\u001b[39m\u001b[39m.\u001b[39mtrain_set)\u001b[39m}\u001b[39;00m\u001b[39m \u001b[39m\u001b[39m\"\u001b[39m\n\u001b[1;32m     47\u001b[0m         \u001b[39mf\u001b[39m\u001b[39m\"\u001b[39m\u001b[39m(\u001b[39m\u001b[39m{\u001b[39;00m\u001b[39m100\u001b[39m\u001b[39m \u001b[39m\u001b[39m*\u001b[39m\u001b[39m \u001b[39mbatch_num\u001b[39m \u001b[39m\u001b[39m/\u001b[39m\u001b[39m \u001b[39m\u001b[39mlen\u001b[39m(\u001b[39mself\u001b[39m\u001b[39m.\u001b[39mtrain_set)\u001b[39m:\u001b[39;00m\u001b[39m.2f\u001b[39m\u001b[39m}\u001b[39;00m\u001b[39m%)\u001b[39m\u001b[39m\"\u001b[39m)\n\u001b[0;32m---> 49\u001b[0m loss\u001b[39m.\u001b[39mbackward()\n\u001b[1;32m     50\u001b[0m \u001b[39mself\u001b[39m\u001b[39m.\u001b[39moptimizer\u001b[39m.\u001b[39mstep()\n\u001b[1;32m     51\u001b[0m \u001b[39mself\u001b[39m\u001b[39m.\u001b[39moptimizer\u001b[39m.\u001b[39mzero_grad()\n",
      "File \u001b[0;32m~/anaconda3/lib/python3.11/site-packages/torch/_tensor.py:492\u001b[0m, in \u001b[0;36mTensor.backward\u001b[0;34m(self, gradient, retain_graph, create_graph, inputs)\u001b[0m\n\u001b[1;32m    482\u001b[0m \u001b[39mif\u001b[39;00m has_torch_function_unary(\u001b[39mself\u001b[39m):\n\u001b[1;32m    483\u001b[0m     \u001b[39mreturn\u001b[39;00m handle_torch_function(\n\u001b[1;32m    484\u001b[0m         Tensor\u001b[39m.\u001b[39mbackward,\n\u001b[1;32m    485\u001b[0m         (\u001b[39mself\u001b[39m,),\n\u001b[0;32m   (...)\u001b[0m\n\u001b[1;32m    490\u001b[0m         inputs\u001b[39m=\u001b[39minputs,\n\u001b[1;32m    491\u001b[0m     )\n\u001b[0;32m--> 492\u001b[0m torch\u001b[39m.\u001b[39mautograd\u001b[39m.\u001b[39mbackward(\n\u001b[1;32m    493\u001b[0m     \u001b[39mself\u001b[39m, gradient, retain_graph, create_graph, inputs\u001b[39m=\u001b[39minputs\n\u001b[1;32m    494\u001b[0m )\n",
      "File \u001b[0;32m~/anaconda3/lib/python3.11/site-packages/torch/autograd/__init__.py:251\u001b[0m, in \u001b[0;36mbackward\u001b[0;34m(tensors, grad_tensors, retain_graph, create_graph, grad_variables, inputs)\u001b[0m\n\u001b[1;32m    246\u001b[0m     retain_graph \u001b[39m=\u001b[39m create_graph\n\u001b[1;32m    248\u001b[0m \u001b[39m# The reason we repeat the same comment below is that\u001b[39;00m\n\u001b[1;32m    249\u001b[0m \u001b[39m# some Python versions print out the first line of a multi-line function\u001b[39;00m\n\u001b[1;32m    250\u001b[0m \u001b[39m# calls in the traceback and some print out the last line\u001b[39;00m\n\u001b[0;32m--> 251\u001b[0m Variable\u001b[39m.\u001b[39m_execution_engine\u001b[39m.\u001b[39mrun_backward(  \u001b[39m# Calls into the C++ engine to run the backward pass\u001b[39;00m\n\u001b[1;32m    252\u001b[0m     tensors,\n\u001b[1;32m    253\u001b[0m     grad_tensors_,\n\u001b[1;32m    254\u001b[0m     retain_graph,\n\u001b[1;32m    255\u001b[0m     create_graph,\n\u001b[1;32m    256\u001b[0m     inputs,\n\u001b[1;32m    257\u001b[0m     allow_unreachable\u001b[39m=\u001b[39m\u001b[39mTrue\u001b[39;00m,\n\u001b[1;32m    258\u001b[0m     accumulate_grad\u001b[39m=\u001b[39m\u001b[39mTrue\u001b[39;00m,\n\u001b[1;32m    259\u001b[0m )\n",
      "\u001b[0;31mKeyboardInterrupt\u001b[0m: "
     ]
    },
    {
     "data": {
      "image/png": "[encoded data removed]",
      "text/plain": [
       "<Figure size 1000x500 with 3 Axes>"
      ]
     },
     "metadata": {},
     "output_type": "display_data"
    }
   ],
   "source": [
    "import os\n",
    "import torch\n",
    "import torch.nn as nn\n",
    "import numpy\n",
    "from Dataloader import DataLoaderQM9\n",
    "from Model import PaiNN\n",
    "from Training import Trainer\n",
    "from Model import saveModel, mse, mae, test\n",
    "import matplotlib.pyplot as plt\n",
    "device = torch.device(\"cuda\" if torch.cuda.is_available() else \"cpu\")\n",
    "\n",
    "\n",
    "Model = PaiNN(r_cut=5,\n",
    "                device=device\n",
    "                ).to(device)\n",
    "def training():\n",
    "        global Model\n",
    "        print(f\"{device} will be used for training the PaiNN model\")\n",
    "\n",
    "        if torch.cuda.device_count() > 1:\n",
    "              print(f\"Using {torch.cuda.device_count()} GPUS.\")\n",
    "              Model = nn.DataParallel(Model)\n",
    "        train_set = DataLoaderQM9(r_cut=5,batch_size=100)\n",
    "        optimizer = torch.optim.Adam(params=Model.parameters(), lr = 5e-4, weight_decay = 0.01)\n",
    "        scheduler = torch.optim.lr_scheduler.ReduceLROnPlateau(optimizer, 'min', factor=0.5, patience = 5)\n",
    "        trainer = Trainer(\n",
    "            Model=Model,\n",
    "            loss=mse,\n",
    "            target=2,\n",
    "            optimizer=optimizer,\n",
    "            Dataloader=train_set,\n",
    "            scheduler=scheduler,\n",
    "            device=device\n",
    "        )\n",
    "        trainer._train(num_epoch = 100, early_stopping = 30)\n",
    "        trainer.plot_data()\n",
    "\n",
    "if __name__==\"__main__\":\n",
    "    training()\n",
    "\n",
    "    # To save the best model\n",
    "    saveModel(Model, path=\"./final_best_PaiNNModel.pth\")\n",
    "\n",
    "    # To load the best model\n",
    "    best_model = PaiNN(r_cut=5, device=device).to(device)\n",
    "    best_model.load_state_dict(torch.load(\"./final_best_PaiNNModel.pth\"))\n",
    "\n",
    "    # To test the best model\n",
    "    test(best_model, DataLoaderQM9(r_cut=5, batch_size=100).get_test())\n"
   ]
  }
 ],
 "metadata": {
  "kernelspec": {
   "display_name": "Python 3",
   "language": "python",
   "name": "python3"
  },
  "language_info": {
   "codemirror_mode": {
    "name": "ipython",
    "version": 3
   },
   "file_extension": ".py",
   "mimetype": "text/x-python",
   "name": "python",
   "nbconvert_exporter": "python",
   "pygments_lexer": "ipython3",
   "version": "3.11.1"
  }
 },
 "nbformat": 4,
 "nbformat_minor": 2
}
