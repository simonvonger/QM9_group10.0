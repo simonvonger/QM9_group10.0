{
 "cells": [
  {
   "cell_type": "markdown",
   "metadata": {},
   "source": [
    "# Notebook for Main.py"
   ]
  },
  {
   "cell_type": "code",
   "execution_count": null,
   "metadata": {},
   "outputs": [],
   "source": [
    "import os\n",
    "import torch\n",
    "import torch.nn as nn\n",
    "import numpy\n",
    "from Dataloader import DataLoaderQM9\n",
    "from Model import PaiNN\n",
    "from Training import Trainer\n",
    "from Model import saveModel, mse, mae, test\n",
    "import matplotlib.pyplot as plt\n",
    "device = torch.device(\"cuda\" if torch.cuda.is_available() else \"cpu\")\n",
    "\n",
    "\n",
    "Model = PaiNN(r_cut=5,\n",
    "                device=device\n",
    "                ).to(device)\n",
    "def training():\n",
    "        global Model\n",
    "        print(f\"{device} will be used for training the PaiNN model\")\n",
    "\n",
    "        if torch.cuda.device_count() > 1:\n",
    "              print(f\"Using {torch.cuda.device_count()} GPUS.\")\n",
    "              Model = nn.DataParallel(Model)\n",
    "        train_set = DataLoaderQM9(r_cut=5,batch_size=100)\n",
    "        optimizer = torch.optim.Adam(params=Model.parameters(), lr = 5e-4, weight_decay = 0.01)\n",
    "        scheduler = torch.optim.lr_scheduler.ReduceLROnPlateau(optimizer, 'min', factor=0.5, patience = 5)\n",
    "        trainer = Trainer(\n",
    "            Model=Model,\n",
    "            loss=mse,\n",
    "            target=2,\n",
    "            optimizer=optimizer,\n",
    "            Dataloader=train_set,\n",
    "            scheduler=scheduler,\n",
    "            device=device\n",
    "        )\n",
    "        trainer._train(num_epoch = 100, early_stopping = 30)\n",
    "        trainer.plot_data()\n",
    "\n",
    "if __name__==\"__main__\":\n",
    "    training()\n",
    "\n",
    "    # To save the best model\n",
    "    saveModel(Model, path=\"./final_best_PaiNNModel.pth\")\n",
    "\n",
    "    # To load the best model\n",
    "    best_model = PaiNN(r_cut=5, device=device).to(device)\n",
    "    best_model.load_state_dict(torch.load(\"./final_best_PaiNNModel.pth\"))\n",
    "\n",
    "    # To test the best model\n",
    "    test(best_model, DataLoaderQM9(r_cut=5, batch_size=100).get_test())\n"
   ]
  }
 ],
 "metadata": {
  "kernelspec": {
   "display_name": "Python 3",
   "language": "python",
   "name": "python3"
  },
  "language_info": {
   "codemirror_mode": {
    "name": "ipython",
    "version": 3
   },
   "file_extension": ".py",
   "mimetype": "text/x-python",
   "name": "python",
   "nbconvert_exporter": "python",
   "pygments_lexer": "ipython3",
   "version": "3.11.1"
  }
 },
 "nbformat": 4,
 "nbformat_minor": 2
}
